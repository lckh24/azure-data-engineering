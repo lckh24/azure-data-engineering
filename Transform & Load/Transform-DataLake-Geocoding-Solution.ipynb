{
 "cells": [
  {
   "cell_type": "markdown",
   "metadata": {
    "application/vnd.databricks.v1+cell": {
     "cellMetadata": {
      "byteLimit": 2048000,
      "rowLimit": 10000
     },
     "inputWidgets": {},
     "nuid": "01ea9c33-8329-4e2b-ab99-b66944b09620",
     "showTitle": false,
     "tableResultSettingsMap": {},
     "title": ""
    }
   },
   "source": [
    "\n",
    "Notebook Name : 04-Transform-DataLake-Geocoding\n",
    "\n",
    "GeoLocation JSON Source File Path : \"abfss://bronze@datalakestorageaccountname.dfs.core.windows.net/geo-location/\n",
    "\""
   ]
  },
  {
   "cell_type": "code",
   "execution_count": 0,
   "metadata": {
    "application/vnd.databricks.v1+cell": {
     "cellMetadata": {
      "byteLimit": 2048000,
      "rowLimit": 10000
     },
     "inputWidgets": {},
     "nuid": "bedea2e8-673c-43d0-ba61-117451211d43",
     "showTitle": false,
     "tableResultSettingsMap": {},
     "title": ""
    }
   },
   "outputs": [],
   "source": [
    "geoLocationSourceLayerName = 'bronze'\n",
    "geoLocationSourceStorageAccountName = 'lckudadatalakehousedev'\n",
    "geoLocationSourceFolderName = 'geo-location'\n",
    "\n",
    "geoLocationSourceFolderPath = f\"abfss://{geoLocationSourceLayerName}@{geoLocationSourceStorageAccountName}.dfs.core.windows.net/{geoLocationSourceFolderName}\""
   ]
  },
  {
   "cell_type": "code",
   "execution_count": 0,
   "metadata": {
    "application/vnd.databricks.v1+cell": {
     "cellMetadata": {
      "byteLimit": 2048000,
      "rowLimit": 10000
     },
     "inputWidgets": {},
     "nuid": "3ed64108-e233-48f0-b633-c8971a02f2e9",
     "showTitle": false,
     "tableResultSettingsMap": {},
     "title": ""
    }
   },
   "outputs": [],
   "source": [
    "geoLocationBronzeDF = (spark\n",
    "                       .read\n",
    "                       .json(geoLocationSourceFolderPath))"
   ]
  },
  {
   "cell_type": "code",
   "execution_count": 0,
   "metadata": {
    "application/vnd.databricks.v1+cell": {
     "cellMetadata": {
      "byteLimit": 2048000,
      "rowLimit": 10000
     },
     "inputWidgets": {},
     "nuid": "7bc4b27c-2a09-4b2f-9d6e-7347dd99fd1a",
     "showTitle": false,
     "tableResultSettingsMap": {},
     "title": ""
    }
   },
   "outputs": [],
   "source": [
    "display(geoLocationBronzeDF)"
   ]
  },
  {
   "cell_type": "code",
   "execution_count": 0,
   "metadata": {
    "application/vnd.databricks.v1+cell": {
     "cellMetadata": {
      "byteLimit": 2048000,
      "rowLimit": 10000
     },
     "inputWidgets": {},
     "nuid": "adf12b9d-f2a8-4e38-9195-03e2620c9405",
     "showTitle": false,
     "tableResultSettingsMap": {},
     "title": ""
    }
   },
   "outputs": [],
   "source": [
    "from pyspark.sql.functions import *\n",
    "\n",
    "geoLocationSilverDF = ( geoLocationBronzeDF\n",
    "                       .select(col('results.admin1').alias('stateName')\n",
    "                              ,col('results.admin2').alias('districtName')\n",
    "                               , col('results.country').alias('countryName')\n",
    "                               , col('results.latitude').alias('latitude')\n",
    "                               , col('results.longitude').alias('longitude')\n",
    "                               , col('results.name').alias('marketName')\n",
    "                               , col('results.population').alias('population')\n",
    ")\n",
    ")\n",
    "\n",
    "display(geoLocationSilverDF)"
   ]
  },
  {
   "cell_type": "code",
   "execution_count": 0,
   "metadata": {
    "application/vnd.databricks.v1+cell": {
     "cellMetadata": {
      "byteLimit": 2048000,
      "rowLimit": 10000
     },
     "inputWidgets": {},
     "nuid": "16a9f9dc-ce68-4565-ba10-3103f322f371",
     "showTitle": false,
     "tableResultSettingsMap": {},
     "title": ""
    }
   },
   "outputs": [],
   "source": [
    "geoLocationStateTransDF = ( geoLocationSilverDF\n",
    " .select(explode(\"stateName\")\n",
    " ,monotonically_increasing_id().alias('stateSequenceId')))"
   ]
  },
  {
   "cell_type": "code",
   "execution_count": 0,
   "metadata": {
    "application/vnd.databricks.v1+cell": {
     "cellMetadata": {
      "byteLimit": 2048000,
      "rowLimit": 10000
     },
     "inputWidgets": {},
     "nuid": "bd42cd88-cd96-4352-acaa-db92ae72c8f3",
     "showTitle": false,
     "tableResultSettingsMap": {},
     "title": ""
    }
   },
   "outputs": [],
   "source": [
    "\n",
    "geoLocationStateTransDF = ( geoLocationSilverDF\n",
    " .select(explode(\"stateName\").alias('stateName')\n",
    " ,monotonically_increasing_id().alias('stateSequenceId')))\n",
    "\n",
    "geoLocationDistrictTransDF = (geoLocationSilverDF\n",
    " .select(explode(\"districtName\").alias('districtName')\n",
    "         ,monotonically_increasing_id().alias('districtSequenceId')\n",
    "))\n",
    "geoLocationCountryTransDF = (geoLocationSilverDF\n",
    " .select(explode(\"countryName\").alias('countryName')\n",
    " ,monotonically_increasing_id().alias('countryNameSequenceId')))\n",
    "\n",
    "geoLocationLatitudeTransDF = (geoLocationSilverDF\n",
    " .select(explode(\"latitude\").alias('latitude')\n",
    " ,monotonically_increasing_id().alias('latitudeSequenceId')))\n",
    "\n",
    "geoLocationLongitudeTransDF = (geoLocationSilverDF\n",
    " .select(explode(\"longitude\").alias('longitude')\n",
    " ,monotonically_increasing_id().alias('longitudeSequenceId')))\n",
    "\n",
    "geoLocationMarkeTransDF = (geoLocationSilverDF\n",
    " .select(explode(\"marketName\").alias('marketName')\n",
    " ,monotonically_increasing_id().alias('marketSequenceId')))\n",
    "\n",
    "geoLocationPopulationTransDF = (geoLocationSilverDF\n",
    " .select(explode(\"population\").alias('population')\n",
    " ,monotonically_increasing_id().alias('populationSequenceId')))"
   ]
  },
  {
   "cell_type": "code",
   "execution_count": 0,
   "metadata": {
    "application/vnd.databricks.v1+cell": {
     "cellMetadata": {
      "byteLimit": 2048000,
      "rowLimit": 10000
     },
     "inputWidgets": {},
     "nuid": "df01b47b-7dfd-42ed-93a1-2aa6b16a472c",
     "showTitle": false,
     "tableResultSettingsMap": {},
     "title": ""
    }
   },
   "outputs": [],
   "source": [
    "geoLocationSilverTransDF = ( geoLocationStateTransDF\n",
    "                            .join(geoLocationDistrictTransDF, col(\"stateSequenceId\") == col(\"districtSequenceId\"))\n",
    "                             .join(geoLocationCountryTransDF, col(\"stateSequenceId\") == col(\"countryNameSequenceId\")) \n",
    "                            .join(geoLocationLatitudeTransDF, col(\"stateSequenceId\") == col(\"latitudeSequenceId\")) \n",
    "                            .join(geoLocationLongitudeTransDF, col(\"stateSequenceId\") == col(\"longitudeSequenceId\")) \n",
    "                            .join(geoLocationMarkeTransDF, col(\"stateSequenceId\") == col(\"marketSequenceId\")) \n",
    "                            .join(geoLocationPopulationTransDF, col(\"stateSequenceId\") == col(\"populationSequenceId\"))  \n",
    "                                 .select(col(\"stateName\")\n",
    "                                    ,col(\"districtName\")\n",
    "                                  ,col(\"countryName\")\n",
    "                                    ,col(\"latitude\")\n",
    "                                    ,col(\"longitude\")\n",
    "                                    ,col(\"marketName\")\n",
    "                                    ,col(\"population\")\n",
    "\n",
    "                             ) )\n",
    "display(geoLocationSilverTransDF)                             "
   ]
  },
  {
   "cell_type": "code",
   "execution_count": 0,
   "metadata": {
    "application/vnd.databricks.v1+cell": {
     "cellMetadata": {
      "byteLimit": 2048000,
      "rowLimit": 10000
     },
     "inputWidgets": {},
     "nuid": "3f57d00f-8d2f-4305-9b92-43c095493e5a",
     "showTitle": false,
     "tableResultSettingsMap": {},
     "title": ""
    }
   },
   "outputs": [],
   "source": [
    "(geoLocationSilverTransDF \n",
    ".write\n",
    ".mode('overwrite')\n",
    ".saveAsTable(\"pricing_analytics.silver.geo_location_silver\"))"
   ]
  },
  {
   "cell_type": "code",
   "execution_count": 0,
   "metadata": {
    "application/vnd.databricks.v1+cell": {
     "cellMetadata": {
      "byteLimit": 2048000,
      "implicitDf": true,
      "rowLimit": 10000
     },
     "inputWidgets": {},
     "nuid": "16b256c5-0399-4236-8ea4-c7dd68446fde",
     "showTitle": false,
     "tableResultSettingsMap": {},
     "title": ""
    }
   },
   "outputs": [],
   "source": [
    "%sql\n",
    "select * from pricing_analytics.silver.geo_location_silver geolocation where geolocation.MARkETNAME = 'Guntur'"
   ]
  },
  {
   "cell_type": "code",
   "execution_count": 0,
   "metadata": {
    "application/vnd.databricks.v1+cell": {
     "cellMetadata": {
      "byteLimit": 2048000,
      "implicitDf": true,
      "rowLimit": 10000
     },
     "inputWidgets": {},
     "nuid": "2121cfa7-bed1-4475-ab8e-f8ef274a3009",
     "showTitle": false,
     "tableResultSettingsMap": {},
     "title": ""
    }
   },
   "outputs": [],
   "source": [
    "%sql\n",
    "SELECT * FROM pricing_analytics.silver.daily_pricing_silver dailyPricing WHERE dailyPricing.MARkET_NAME = 'Guntur'"
   ]
  },
  {
   "cell_type": "code",
   "execution_count": 0,
   "metadata": {
    "application/vnd.databricks.v1+cell": {
     "cellMetadata": {
      "byteLimit": 2048000,
      "implicitDf": true,
      "rowLimit": 10000
     },
     "inputWidgets": {},
     "nuid": "fd027885-04fe-4bcc-916e-189afb0f521e",
     "showTitle": false,
     "tableResultSettingsMap": {},
     "title": ""
    }
   },
   "outputs": [],
   "source": [
    "%sql\n",
    "SELECT DISTINCT geolocation.*\n",
    " FROM pricing_analytics.silver.geo_location_silver geolocation\n",
    "inner join pricing_analytics.silver.daily_pricing_silver dailyPricing\n",
    "on geolocation.stateName = dailyPricing.STATE_NAME\n",
    "and geolocation.marketName = dailyPricing.MARKET_NAME\n",
    "where geolocation.countryName = 'India'"
   ]
  }
 ],
 "metadata": {
  "application/vnd.databricks.v1+notebook": {
   "computePreferences": null,
   "dashboards": [],
   "environmentMetadata": {
    "base_environment": "",
    "environment_version": "1"
   },
   "inputWidgetPreferences": null,
   "language": "python",
   "notebookMetadata": {
    "mostRecentlyExecutedCommandWithImplicitDF": {
     "commandId": 748089550225217,
     "dataframes": [
      "_sqldf"
     ]
    },
    "pythonIndentUnit": 4
   },
   "notebookName": "Transform-DataLake-Geocoding-Solution",
   "widgets": {}
  },
  "language_info": {
   "name": "python"
  }
 },
 "nbformat": 4,
 "nbformat_minor": 0
}
