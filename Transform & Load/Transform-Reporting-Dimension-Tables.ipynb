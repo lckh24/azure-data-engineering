{
 "cells": [
  {
   "cell_type": "markdown",
   "metadata": {
    "application/vnd.databricks.v1+cell": {
     "cellMetadata": {
      "byteLimit": 2048000,
      "rowLimit": 10000
     },
     "inputWidgets": {},
     "nuid": "04b5b1d8-06dc-4701-8822-1e675bc6679c",
     "showTitle": false,
     "tableResultSettingsMap": {},
     "title": ""
    }
   },
   "source": [
    "\n",
    "| SOURCE_TABLE_NAME | SOURCE_COLUMN_NAME | REPORTING_TABLE_NAME | REPORTING_COLUMN_NAME | TRANSFORMATION RULE | CONDITIONS |\n",
    "| --- | --- |--- | --- |--- |--- |\n",
    "| silver.daily_pricing_silver\t| state_name\t|***REPORTING_DIM_STATE_GOLD***\t|***STATE_NAME***\t| Select Unique state_name Values | Identify New/Changed Records From the Source Table . Use ***lakehouse_updated_date Column*** in source table to Identify New/Changed Records|\n",
    "| DERIVED\t| DERIVED\t|***REPORTING_DIM_STATE_GOLD***\t| ***STATE_ID***\t| Generate Running Sequnece ID For Each Unique state_name Values | 1. Make Sure No Duplicate State_Name Values Loaded 2.  When loading new State_Name values in subsquent run , STATE_ID values need to be generated on top of existing MAX(STATE_ID)   |\n",
    "| DERIVED\t| DERIVED\t|***REPORTING_DIM_STATE_GOLD***\t| ***lakehouse_inserted_date***\t| Load current_timestamp() | |\n",
    "| DERIVED\t| DERIVED\t|***REPORTING_DIM_STATE_GOLD***\t| ***lakehouse_updated_date***\t| Load current_timestamp() | |"
   ]
  },
  {
   "cell_type": "code",
   "execution_count": 0,
   "metadata": {
    "application/vnd.databricks.v1+cell": {
     "cellMetadata": {
      "byteLimit": 2048000,
      "implicitDf": true,
      "rowLimit": 10000
     },
     "inputWidgets": {},
     "nuid": "708bbfe9-fbdb-4ce1-8132-c237b4911999",
     "showTitle": false,
     "tableResultSettingsMap": {},
     "title": ""
    }
   },
   "outputs": [],
   "source": [
    "%sql\n",
    "SELECT NVL(MAX(PROCESSED_TABLE_DATETIME), '1900-01-01') FROM pricing_analytics.processrunlogs.DELTALAKEHOUSE_PROCESS_RUNS WHERE process_name = 'reportingDimensionTablesLoad' AND process_status = 'Completed'"
   ]
  },
  {
   "cell_type": "code",
   "execution_count": 0,
   "metadata": {
    "application/vnd.databricks.v1+cell": {
     "cellMetadata": {
      "byteLimit": 2048000,
      "implicitDf": true,
      "rowLimit": 10000
     },
     "inputWidgets": {},
     "nuid": "b1340c07-f93f-4397-9353-8559429b351e",
     "showTitle": false,
     "tableResultSettingsMap": {},
     "title": ""
    }
   },
   "outputs": [],
   "source": [
    "%sql\n",
    "\n",
    "CREATE OR REPLACE TABLE pricing_analytics.silver.reporting_dim_state_stage_1 AS\n",
    "SELECT DISTINCT STATE_NAME\n",
    "FROM pricing_analytics.silver.daily_pricing_silver\n",
    "WHERE lakehouse_updated_time > (SELECT NVL(MAX(PROCESSED_TABLE_DATETIME), '1900-01-01') FROM pricing_analytics.processrunlogs.DELTALAKEHOUSE_PROCESS_RUNS\n",
    "WHERE process_name = 'reportingDimensionTablesLoad' AND process_status = 'Completed')"
   ]
  },
  {
   "cell_type": "code",
   "execution_count": 0,
   "metadata": {
    "application/vnd.databricks.v1+cell": {
     "cellMetadata": {
      "byteLimit": 2048000,
      "implicitDf": true,
      "rowLimit": 10000
     },
     "inputWidgets": {},
     "nuid": "a3057e73-ab62-4d03-b28d-9e5121a2b4ee",
     "showTitle": false,
     "tableResultSettingsMap": {},
     "title": ""
    }
   },
   "outputs": [],
   "source": [
    "%sql\n",
    "-- Detect the state name which is not present in the gold table\n",
    "CREATE OR REPLACE TABLE pricing_analytics.silver.reporting_dim_state_stage_2 AS\n",
    "SELECT \n",
    "  sd.STATE_NAME,\n",
    "  ROW_NUMBER() OVER (ORDER BY sd.STATE_NAME) AS STATE_ID,\n",
    "  CURRENT_TIMESTAMP() AS CREATED_AT,\n",
    "  CURRENT_TIMESTAMP() AS UPDATED_AT\n",
    "FROM pricing_analytics.silver.reporting_dim_state_stage_1 sd\n",
    "LEFT JOIN pricing_analytics.gold.reporting_dim_state_gold gd\n",
    "ON sd.STATE_NAME = gd.STATE_NAME\n",
    "WHERE gd.STATE_NAME IS NULL"
   ]
  },
  {
   "cell_type": "code",
   "execution_count": 0,
   "metadata": {
    "application/vnd.databricks.v1+cell": {
     "cellMetadata": {
      "byteLimit": 2048000,
      "implicitDf": true,
      "rowLimit": 10000
     },
     "inputWidgets": {},
     "nuid": "efc3d626-1cc4-45ce-ab8c-b7240f13aef7",
     "showTitle": false,
     "tableResultSettingsMap": {},
     "title": ""
    }
   },
   "outputs": [],
   "source": [
    "%sql\n",
    "CREATE OR REPLACE TABLE pricing_analytics.silver.reporting_dim_state_stage_3 AS\n",
    "SELECT \n",
    "  sd.STATE_NAME,\n",
    "  sd.STATE_ID + gd.PRV_MAX_STATE_ID AS STATE_ID,\n",
    "  CURRENT_TIMESTAMP() AS lakehouse_inserted_date,\n",
    "  CURRENT_TIMESTAMP() AS lakehouse_updated_date\n",
    "FROM pricing_analytics.silver.reporting_dim_state_stage_2 sd\n",
    "CROSS JOIN (SELECT NVL(MAX(STATE_ID),0)  AS PRV_MAX_STATE_ID FROM pricing_analytics.gold.reporting_dim_state_gold) gd"
   ]
  },
  {
   "cell_type": "code",
   "execution_count": 0,
   "metadata": {
    "application/vnd.databricks.v1+cell": {
     "cellMetadata": {
      "byteLimit": 2048000,
      "implicitDf": true,
      "rowLimit": 10000
     },
     "inputWidgets": {},
     "nuid": "295e2bea-e753-41a3-ae6d-1f9397c1363a",
     "showTitle": false,
     "tableResultSettingsMap": {},
     "title": ""
    }
   },
   "outputs": [],
   "source": [
    "%sql\n",
    "INSERT INTO pricing_analytics.gold.reporting_dim_state_gold\n",
    "SELECT \n",
    "  STATE_NAME,\n",
    "  STATE_ID,\n",
    "  CURRENT_TIMESTAMP(),\n",
    "  CURRENT_TIMESTAMP()\n",
    "FROM pricing_analytics.silver.reporting_dim_state_stage_3"
   ]
  },
  {
   "cell_type": "code",
   "execution_count": 0,
   "metadata": {
    "application/vnd.databricks.v1+cell": {
     "cellMetadata": {
      "byteLimit": 2048000,
      "implicitDf": true,
      "rowLimit": 10000
     },
     "inputWidgets": {},
     "nuid": "ceb97d79-0318-4af8-b94d-037d97303dba",
     "showTitle": false,
     "tableResultSettingsMap": {},
     "title": ""
    }
   },
   "outputs": [],
   "source": [
    "%sql\n",
    "SELECT  * FROM pricing_analytics.gold.reporting_dim_state_gold"
   ]
  },
  {
   "cell_type": "code",
   "execution_count": 0,
   "metadata": {
    "application/vnd.databricks.v1+cell": {
     "cellMetadata": {
      "byteLimit": 2048000,
      "implicitDf": true,
      "rowLimit": 10000
     },
     "inputWidgets": {},
     "nuid": "bed7cfad-15b8-44a4-bd7c-58b5a1d60410",
     "showTitle": false,
     "tableResultSettingsMap": {},
     "title": ""
    }
   },
   "outputs": [],
   "source": [
    "%sql\n",
    "USE CATALOG pricing_analytics;\n",
    "CREATE OR REPLACE TABLE silver.reporting_dim_market_stage_1 AS\n",
    "SELECT \n",
    " DISTINCT MARKET_NAME\n",
    "FROM silver.daily_pricing_silver\n",
    "WHERE lakehouse_updated_time > (SELECT nvl(max(PROCESSED_TABLE_DATETIME),'1900-01-01') FROM processrunlogs.DELTALAKEHOUSE_PROCESS_RUNS \n",
    "WHERE process_name = 'reportingDimensionTablesLoad' AND process_status = 'Completed' )"
   ]
  },
  {
   "cell_type": "code",
   "execution_count": 0,
   "metadata": {
    "application/vnd.databricks.v1+cell": {
     "cellMetadata": {
      "byteLimit": 2048000,
      "implicitDf": true,
      "rowLimit": 10000
     },
     "inputWidgets": {},
     "nuid": "bc1053ef-6069-4e98-bb2c-10d6c04e2de0",
     "showTitle": false,
     "tableResultSettingsMap": {},
     "title": ""
    }
   },
   "outputs": [],
   "source": [
    "%sql\n",
    "SELECT \n",
    " DISTINCT MARKET_NAME\n",
    "FROM silver.daily_pricing_silver\n",
    "WHERE lakehouse_updated_time > (SELECT nvl(max(PROCESSED_TABLE_DATETIME),'1900-01-01') FROM processrunlogs.DELTALAKEHOUSE_PROCESS_RUNS)"
   ]
  },
  {
   "cell_type": "code",
   "execution_count": 0,
   "metadata": {
    "application/vnd.databricks.v1+cell": {
     "cellMetadata": {
      "byteLimit": 2048000,
      "implicitDf": true,
      "rowLimit": 10000
     },
     "inputWidgets": {},
     "nuid": "f1356690-8a9f-41f5-aa32-923df399b3aa",
     "showTitle": false,
     "tableResultSettingsMap": {},
     "title": ""
    }
   },
   "outputs": [],
   "source": [
    "%sql\n",
    "USE CATALOG pricing_analytics;\n",
    "CREATE OR REPLACE TABLE silver.reporting_dim_market_stage_1 AS\n",
    "SELECT \n",
    " DISTINCT MARKET_NAME\n",
    "FROM silver.daily_pricing_silver\n",
    "WHERE lakehouse_updated_time > (SELECT nvl(max(PROCESSED_TABLE_DATETIME),'1900-01-01') FROM processrunlogs.DELTALAKEHOUSE_PROCESS_RUNS \n",
    "WHERE process_name = 'reportingDimensionTablesLoad' AND process_status = 'Completed' )"
   ]
  },
  {
   "cell_type": "code",
   "execution_count": 0,
   "metadata": {
    "application/vnd.databricks.v1+cell": {
     "cellMetadata": {
      "byteLimit": 2048000,
      "implicitDf": true,
      "rowLimit": 10000
     },
     "inputWidgets": {},
     "nuid": "5156d4fe-e69c-4c74-b355-18ec043accba",
     "showTitle": false,
     "tableResultSettingsMap": {},
     "title": ""
    }
   },
   "outputs": [],
   "source": [
    "%sql\n",
    "USE CATALOG pricing_analytics;\n",
    "CREATE OR REPLACE TABLE silver.reporting_dim_market_stage_2 AS \n",
    "SELECT \n",
    "  silverDim.MARKET_NAME\n",
    " ,ROW_NUMBER() OVER (  ORDER BY silverDim.MARKET_NAME)  as MARKET_ID\n",
    " ,current_timestamp() as lakehouse_inserted_date\n",
    " ,current_timestamp() as lakehouse_updated_date\n",
    "FROM silver.reporting_dim_market_stage_1 silverDim\n",
    "LEFT OUTER JOIN gold.reporting_dim_market_gold goldDim\n",
    "ON silverDim.MARKET_NAME = goldDim.MARKET_NAME\n",
    "WHERE goldDim.MARKET_NAME IS NULL;\n"
   ]
  },
  {
   "cell_type": "code",
   "execution_count": 0,
   "metadata": {
    "application/vnd.databricks.v1+cell": {
     "cellMetadata": {
      "byteLimit": 2048000,
      "implicitDf": true,
      "rowLimit": 10000
     },
     "inputWidgets": {},
     "nuid": "a31ed8ed-718d-46bd-b63f-257939fc982e",
     "showTitle": false,
     "tableResultSettingsMap": {},
     "title": ""
    }
   },
   "outputs": [],
   "source": [
    "%sql\n",
    "USE CATALOG pricing_analytics;\n",
    "CREATE OR REPLACE TABLE silver.reporting_dim_market_stage_3 AS \n",
    "SELECT\n",
    "silverDim.MARKET_NAME \n",
    ",silverDim.MARKET_ID + PREV_MAX_SK_ID as MARKET_ID\n",
    ",current_timestamp() as lakehouse_inserted_date\n",
    ",current_timestamp() as lakehouse_updated_date\n",
    "FROM \n",
    "silver.reporting_dim_market_stage_2 silverDim\n",
    "CROSS JOIN (SELECT NVL(MAX(MARKET_ID),0) as PREV_MAX_SK_ID FROM gold.reporting_dim_market_gold ) goldDim;"
   ]
  },
  {
   "cell_type": "code",
   "execution_count": 0,
   "metadata": {
    "application/vnd.databricks.v1+cell": {
     "cellMetadata": {
      "byteLimit": 2048000,
      "implicitDf": true,
      "rowLimit": 10000
     },
     "inputWidgets": {},
     "nuid": "5e2862fa-d93d-44ac-88cb-73d049b57450",
     "showTitle": false,
     "tableResultSettingsMap": {},
     "title": ""
    }
   },
   "outputs": [],
   "source": [
    "%sql\n",
    "USE CATALOG pricing_analytics;\n",
    "INSERT INTO gold.reporting_dim_market_gold\n",
    "SELECT\n",
    "MARKET_NAME\n",
    ",MARKET_ID\n",
    ",current_timestamp() \n",
    ",current_timestamp() \n",
    "FROM silver.reporting_dim_market_stage_3;"
   ]
  },
  {
   "cell_type": "code",
   "execution_count": 0,
   "metadata": {
    "application/vnd.databricks.v1+cell": {
     "cellMetadata": {
      "byteLimit": 2048000,
      "implicitDf": true,
      "rowLimit": 10000
     },
     "inputWidgets": {},
     "nuid": "04e2bb3f-a042-4fb4-8ea0-545f559999c3",
     "showTitle": false,
     "tableResultSettingsMap": {},
     "title": ""
    }
   },
   "outputs": [],
   "source": [
    "%sql\n",
    "USE CATALOG pricing_analytics;\n",
    "CREATE OR REPLACE TABLE silver.reporting_dim_variety_stage_1 AS\n",
    "SELECT \n",
    " DISTINCT VARIETY\n",
    "FROM silver.daily_pricing_silver\n",
    "WHERE lakehouse_updated_time > (SELECT nvl(max(PROCESSED_TABLE_DATETIME),'1900-01-01') FROM processrunlogs.DELTALAKEHOUSE_PROCESS_RUNS \n",
    "WHERE process_name = 'reportingDimensionTablesLoad' AND process_status = 'Completed' );\n"
   ]
  },
  {
   "cell_type": "code",
   "execution_count": 0,
   "metadata": {
    "application/vnd.databricks.v1+cell": {
     "cellMetadata": {
      "byteLimit": 2048000,
      "implicitDf": true,
      "rowLimit": 10000
     },
     "inputWidgets": {},
     "nuid": "4581823f-fe00-48db-a539-1043f35b099f",
     "showTitle": false,
     "tableResultSettingsMap": {},
     "title": ""
    }
   },
   "outputs": [],
   "source": [
    "%sql\n",
    "USE CATALOG pricing_analytics;\n",
    "CREATE OR REPLACE TABLE silver.reporting_dim_variety_stage_2 AS \n",
    "SELECT \n",
    "  silverDim.VARIETY\n",
    " ,ROW_NUMBER() OVER (  ORDER BY silverDim.VARIETY)  as VARIETY_ID\n",
    " ,current_timestamp() as lakehouse_inserted_date\n",
    " ,current_timestamp() as lakehouse_updated_date\n",
    "FROM silver.reporting_dim_variety_stage_1 silverDim\n",
    "LEFT OUTER JOIN gold.reporting_dim_variety_gold goldDim\n",
    "ON silverDim.VARIETY= goldDim.VARIETY\n",
    "WHERE goldDim.VARIETY IS NULL;"
   ]
  },
  {
   "cell_type": "code",
   "execution_count": 0,
   "metadata": {
    "application/vnd.databricks.v1+cell": {
     "cellMetadata": {
      "byteLimit": 2048000,
      "implicitDf": true,
      "rowLimit": 10000
     },
     "inputWidgets": {},
     "nuid": "67f70eef-7d99-48e0-83aa-345b9535da01",
     "showTitle": false,
     "tableResultSettingsMap": {},
     "title": ""
    }
   },
   "outputs": [],
   "source": [
    "\n",
    "%sql\n",
    "USE CATALOG pricing_analytics;\n",
    "CREATE OR REPLACE TABLE silver.reporting_dim_variety_stage_3 AS \n",
    "SELECT\n",
    "silverDim.VARIETY \n",
    ",silverDim.VARIETY_ID + PREV_MAX_SK_ID as VARIETY_ID\n",
    ",PREV_MAX_SK_ID\n",
    ",current_timestamp() as lakehouse_inserted_date\n",
    ",current_timestamp() as lakehouse_updated_date\n",
    "FROM \n",
    "silver.reporting_dim_variety_stage_2 silverDim\n",
    "CROSS JOIN (SELECT nvl(MAX(VARIETY_ID),0) as PREV_MAX_SK_ID FROM gold.reporting_dim_variety_gold ) goldDim;\n",
    "\n"
   ]
  },
  {
   "cell_type": "code",
   "execution_count": 0,
   "metadata": {
    "application/vnd.databricks.v1+cell": {
     "cellMetadata": {
      "byteLimit": 2048000,
      "implicitDf": true,
      "rowLimit": 10000
     },
     "inputWidgets": {},
     "nuid": "f78aeebf-5392-458d-96ae-42fe224ce4a6",
     "showTitle": false,
     "tableResultSettingsMap": {},
     "title": ""
    }
   },
   "outputs": [],
   "source": [
    "%sql\n",
    "USE CATALOG pricing_analytics;\n",
    "INSERT INTO gold.reporting_dim_variety_gold\n",
    "SELECT\n",
    "VARIETY\n",
    ",VARIETY_ID\n",
    ",current_timestamp() \n",
    ",current_timestamp() \n",
    "FROM silver.reporting_dim_variety_stage_3"
   ]
  },
  {
   "cell_type": "code",
   "execution_count": 0,
   "metadata": {
    "application/vnd.databricks.v1+cell": {
     "cellMetadata": {
      "byteLimit": 2048000,
      "implicitDf": true,
      "rowLimit": 10000
     },
     "inputWidgets": {},
     "nuid": "da5248e6-dc44-4d4c-b672-bf9a5565bf70",
     "showTitle": false,
     "tableResultSettingsMap": {},
     "title": ""
    }
   },
   "outputs": [],
   "source": [
    "%sql\n",
    "USE CATALOG pricing_analytics;\n",
    "CREATE OR REPLACE TABLE silver.reporting_dim_product_stage_1 AS\n",
    "SELECT \n",
    " DISTINCT PRODUCT_NAME\n",
    " ,PRODUCTGROUP_NAME\n",
    "FROM silver.daily_pricing_silver\n",
    "WHERE lakehouse_updated_time > (SELECT nvl(max(PROCESSED_TABLE_DATETIME),'1900-01-01') FROM processrunlogs.DELTALAKEHOUSE_PROCESS_RUNS \n",
    "WHERE process_name = 'reportingDimensionTablesLoad' AND process_status = 'Completed' );"
   ]
  },
  {
   "cell_type": "code",
   "execution_count": 0,
   "metadata": {
    "application/vnd.databricks.v1+cell": {
     "cellMetadata": {
      "byteLimit": 2048000,
      "implicitDf": true,
      "rowLimit": 10000
     },
     "inputWidgets": {},
     "nuid": "0d9849af-d796-48e8-9b00-a39fc9bad15f",
     "showTitle": false,
     "tableResultSettingsMap": {},
     "title": ""
    }
   },
   "outputs": [],
   "source": [
    "%sql\n",
    "USE CATALOG pricing_analytics;\n",
    "CREATE OR REPLACE TABLE silver.reporting_dim_product_stage_2 AS \n",
    "SELECT \n",
    "  silverDim.PRODUCT_NAME\n",
    "  ,silverDim.PRODUCTGROUP_NAME\n",
    " ,ROW_NUMBER() OVER (  ORDER BY silverDim.PRODUCT_NAME,silverDim.PRODUCTGROUP_NAME)  as PRODUCT_ID\n",
    " ,current_timestamp() as lakehouse_inserted_date\n",
    " ,current_timestamp() as lakehouse_updated_date\n",
    "FROM silver.reporting_dim_product_stage_1 silverDim\n",
    "LEFT OUTER JOIN gold.reporting_dim_product_gold goldDim\n",
    "ON silverDim.PRODUCT_NAME= goldDim.PRODUCT_NAME\n",
    "AND silverDim.PRODUCTGROUP_NAME = goldDim.PRODUCTGROUP_NAME\n",
    "WHERE goldDim.PRODUCT_NAME IS NULL;"
   ]
  },
  {
   "cell_type": "code",
   "execution_count": 0,
   "metadata": {
    "application/vnd.databricks.v1+cell": {
     "cellMetadata": {
      "byteLimit": 2048000,
      "implicitDf": true,
      "rowLimit": 10000
     },
     "inputWidgets": {},
     "nuid": "8d393312-6060-41c9-86be-f8d10ac27ba2",
     "showTitle": false,
     "tableResultSettingsMap": {},
     "title": ""
    }
   },
   "outputs": [],
   "source": [
    "%sql\n",
    "USE CATALOG pricing_analytics;\n",
    "CREATE OR REPLACE TABLE silver.reporting_dim_product_stage_3 AS \n",
    "SELECT\n",
    "  silverDim.PRODUCT_NAME\n",
    "  ,silverDim.PRODUCTGROUP_NAME\n",
    ",silverDim.PRODUCT_ID + PREV_MAX_SK_ID as PRODUCT_ID\n",
    ",PREV_MAX_SK_ID\n",
    ",current_timestamp() as lakehouse_inserted_date\n",
    ",current_timestamp() as lakehouse_updated_date\n",
    "FROM \n",
    "silver.reporting_dim_product_stage_2 silverDim\n",
    "CROSS JOIN (SELECT nvl(MAX(PRODUCT_ID),0) as PREV_MAX_SK_ID FROM gold.reporting_dim_product_gold ) goldDim;"
   ]
  },
  {
   "cell_type": "code",
   "execution_count": 0,
   "metadata": {
    "application/vnd.databricks.v1+cell": {
     "cellMetadata": {
      "byteLimit": 2048000,
      "implicitDf": true,
      "rowLimit": 10000
     },
     "inputWidgets": {},
     "nuid": "0aa210e6-2d13-483a-b32b-3d8261e37e27",
     "showTitle": false,
     "tableResultSettingsMap": {},
     "title": ""
    }
   },
   "outputs": [],
   "source": [
    "%sql\n",
    "USE CATALOG pricing_analytics;\n",
    "INSERT INTO gold.reporting_dim_product_gold\n",
    "SELECT\n",
    " PRODUCTGROUP_NAME\n",
    ",PRODUCT_NAME\n",
    ",PRODUCT_ID\n",
    ",current_timestamp() \n",
    ",current_timestamp() \n",
    "FROM silver.reporting_dim_product_stage_3"
   ]
  },
  {
   "cell_type": "code",
   "execution_count": 0,
   "metadata": {
    "application/vnd.databricks.v1+cell": {
     "cellMetadata": {
      "byteLimit": 2048000,
      "implicitDf": true,
      "rowLimit": 10000
     },
     "inputWidgets": {},
     "nuid": "109813c3-30ea-4718-8a4f-94fcd8a1cf7d",
     "showTitle": false,
     "tableResultSettingsMap": {},
     "title": ""
    }
   },
   "outputs": [],
   "source": [
    "%sql\n",
    "USE CATALOG pricing_analytics;\n",
    "INSERT INTO  processrunlogs.DELTALAKEHOUSE_PROCESS_RUNS(PROCESS_NAME,PROCESSED_TABLE_DATETIME,PROCESS_STATUS)\n",
    "SELECT 'reportingDimensionTablesLoad' , max(lakehouse_updated_time) ,'Completed' FROM silver.daily_pricing_silver"
   ]
  },
  {
   "cell_type": "code",
   "execution_count": 0,
   "metadata": {
    "application/vnd.databricks.v1+cell": {
     "cellMetadata": {
      "byteLimit": 2048000,
      "implicitDf": true,
      "rowLimit": 10000
     },
     "inputWidgets": {},
     "nuid": "ba45f98b-c2cd-4a56-becf-5b9f6288f132",
     "showTitle": false,
     "tableResultSettingsMap": {},
     "title": ""
    }
   },
   "outputs": [],
   "source": [
    "%sql\n",
    "select * from pricing_analytics.processrunlogs.DELTALAKEHOUSE_PROCESS_RUNS"
   ]
  }
 ],
 "metadata": {
  "application/vnd.databricks.v1+notebook": {
   "computePreferences": null,
   "dashboards": [],
   "environmentMetadata": {
    "base_environment": "",
    "environment_version": "2"
   },
   "inputWidgetPreferences": null,
   "language": "python",
   "notebookMetadata": {
    "mostRecentlyExecutedCommandWithImplicitDF": {
     "commandId": 4846238425716932,
     "dataframes": [
      "_sqldf"
     ]
    },
    "pythonIndentUnit": 4
   },
   "notebookName": "Transform-Reporting-Dimension-Tables",
   "widgets": {}
  },
  "language_info": {
   "name": "python"
  }
 },
 "nbformat": 4,
 "nbformat_minor": 0
}
