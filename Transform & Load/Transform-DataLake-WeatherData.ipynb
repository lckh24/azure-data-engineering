{
 "cells": [
  {
   "cell_type": "markdown",
   "metadata": {
    "application/vnd.databricks.v1+cell": {
     "cellMetadata": {
      "byteLimit": 2048000,
      "rowLimit": 10000
     },
     "inputWidgets": {},
     "nuid": "47197e6d-2f22-4338-b387-619cef5dd5bb",
     "showTitle": false,
     "tableResultSettingsMap": {},
     "title": ""
    }
   },
   "source": [
    "WeatherData JSON Source File Path : \"abfss://bronze@datalakestorageaccountname.dfs.core.windows.net/weather-data/\n",
    "\"\n",
    "\n",
    "- <a href=\"https://spark.apache.org/docs/latest/api/python/reference/pyspark.sql/api/pyspark.sql.DataFrame.join.html#pyspark.sql.DataFrame.join\" target=\"_blank\">**DataFrame Joins** </a>"
   ]
  },
  {
   "cell_type": "code",
   "execution_count": 0,
   "metadata": {
    "application/vnd.databricks.v1+cell": {
     "cellMetadata": {
      "byteLimit": 2048000,
      "rowLimit": 10000
     },
     "inputWidgets": {},
     "nuid": "3b027645-a6db-4e4d-8751-b5817a14061e",
     "showTitle": false,
     "tableResultSettingsMap": {},
     "title": ""
    }
   },
   "outputs": [],
   "source": [
    "weatherDataSourceLayerName = 'bronze'\n",
    "weatherDataSourceStorageAccountName = 'lckudadatalakehousedev'\n",
    "weatherDataSourceFolderName = 'weather-data'\n",
    "\n",
    "weatherDataSourceFolderPath = f\"abfss://{weatherDataSourceLayerName}@{weatherDataSourceStorageAccountName}.dfs.core.windows.net/{weatherDataSourceFolderName}\""
   ]
  },
  {
   "cell_type": "code",
   "execution_count": 0,
   "metadata": {
    "application/vnd.databricks.v1+cell": {
     "cellMetadata": {
      "byteLimit": 2048000,
      "rowLimit": 10000
     },
     "inputWidgets": {},
     "nuid": "ef115d39-0cec-42ce-9509-b4fc861f1418",
     "showTitle": false,
     "tableResultSettingsMap": {},
     "title": ""
    }
   },
   "outputs": [],
   "source": [
    "weatherDataBronzeDF = (spark\n",
    "                       .read\n",
    "                       .json(weatherDataSourceFolderPath))\n",
    "\n",
    "display(weatherDataBronzeDF)"
   ]
  },
  {
   "cell_type": "code",
   "execution_count": 0,
   "metadata": {
    "application/vnd.databricks.v1+cell": {
     "cellMetadata": {
      "byteLimit": 2048000,
      "rowLimit": 10000
     },
     "inputWidgets": {},
     "nuid": "1e011f14-d512-4dd5-993a-0c0ff11eec61",
     "showTitle": false,
     "tableResultSettingsMap": {},
     "title": ""
    }
   },
   "outputs": [],
   "source": [
    "from pyspark.sql.functions import *\n",
    "weatherDataDailyDateTransDF = (weatherDataBronzeDF\n",
    "                          .select(\n",
    "                          explode(\"daily.time\").alias(\"weatherDate\")\n",
    "                          ,col(\"marketName\")\n",
    "                          ,col(\"latitude\").alias(\"latitude\")\n",
    "                          ,col(\"longitude\").alias(\"longitude\")\n",
    "                          ,monotonically_increasing_id().alias('sequenceId')\n",
    "                          ))\n",
    "\n",
    "display(weatherDataDailyDateTransDF)"
   ]
  },
  {
   "cell_type": "code",
   "execution_count": 0,
   "metadata": {
    "application/vnd.databricks.v1+cell": {
     "cellMetadata": {
      "byteLimit": 2048000,
      "rowLimit": 10000
     },
     "inputWidgets": {},
     "nuid": "1826e61f-889a-4a24-98b8-4ab7efaa709a",
     "showTitle": false,
     "tableResultSettingsMap": {},
     "title": ""
    }
   },
   "outputs": [],
   "source": [
    "weatherDataMaxTemparatureTransDF = (weatherDataBronzeDF\n",
    "                          .select(\n",
    "                          explode(\"daily.temperature_2m_max\").alias(\"maximumTemparature\")\n",
    "                          ,col(\"marketName\")\n",
    "                          ,col(\"latitude\").alias(\"latitude\")\n",
    "                          ,col(\"longitude\").alias(\"longitude\")\n",
    "                          ,monotonically_increasing_id().alias('sequenceId')\n",
    "                          ,col(\"daily_units.temperature_2m_max\").alias(\"unitOfTemparature\")\n",
    "\n",
    "                          ))\n",
    "\n",
    "display(weatherDataMaxTemparatureTransDF)"
   ]
  },
  {
   "cell_type": "code",
   "execution_count": 0,
   "metadata": {
    "application/vnd.databricks.v1+cell": {
     "cellMetadata": {
      "byteLimit": 2048000,
      "rowLimit": 10000
     },
     "inputWidgets": {},
     "nuid": "7526fdc8-5ca2-444c-8449-4f0d2630ef45",
     "showTitle": false,
     "tableResultSettingsMap": {},
     "title": ""
    }
   },
   "outputs": [],
   "source": [
    "weatherDataMinTemparatureTransDF = (weatherDataBronzeDF\n",
    "                          .select(\n",
    "                          explode(\"daily.temperature_2m_min\").alias(\"minimumTemparature\")\n",
    "                          ,col(\"marketName\")\n",
    "                          ,col(\"latitude\").alias(\"latitude\")\n",
    "                          ,col(\"longitude\").alias(\"longitude\")                          \n",
    "                          ,monotonically_increasing_id().alias('sequenceId')\n",
    "\n",
    "                          ))\n",
    "\n",
    "display(weatherDataMinTemparatureTransDF)"
   ]
  },
  {
   "cell_type": "code",
   "execution_count": 0,
   "metadata": {
    "application/vnd.databricks.v1+cell": {
     "cellMetadata": {
      "byteLimit": 2048000,
      "rowLimit": 10000
     },
     "inputWidgets": {},
     "nuid": "9de0d2f3-acc6-4e08-bd08-c7c68bf82b8c",
     "showTitle": false,
     "tableResultSettingsMap": {},
     "title": ""
    }
   },
   "outputs": [],
   "source": [
    "weatherDataRainFallTransDF = (weatherDataBronzeDF\n",
    "                          .select(\n",
    "                          explode(\"daily.rain_sum\").alias(\"rainFall\")\n",
    "                          ,col(\"marketName\")\n",
    "                          ,col(\"latitude\").alias(\"latitude\")\n",
    "                          ,col(\"longitude\").alias(\"longitude\")                          \n",
    "                          ,monotonically_increasing_id().alias('sequenceId')\n",
    "                          ,col(\"daily_units.rain_sum\").alias(\"unitOfRainFall\")\n",
    "\n",
    "                          ))\n",
    "\n",
    "display(weatherDataRainFallTransDF)"
   ]
  },
  {
   "cell_type": "code",
   "execution_count": 0,
   "metadata": {
    "application/vnd.databricks.v1+cell": {
     "cellMetadata": {
      "byteLimit": 2048000,
      "rowLimit": 10000
     },
     "inputWidgets": {},
     "nuid": "5c6ad1a0-ecff-4357-a62f-661139a35b80",
     "showTitle": false,
     "tableResultSettingsMap": {},
     "title": ""
    }
   },
   "outputs": [],
   "source": [
    "weatherDataTransDF = (weatherDataDailyDateTransDF\n",
    "                      .join(weatherDataMaxTemparatureTransDF, ['marketName','latitude','longitude','sequenceId'])\n",
    "                      .join(weatherDataMinTemparatureTransDF, ['marketName','latitude','longitude','sequenceId'])\n",
    "                      .join(weatherDataRainFallTransDF, ['marketName','latitude','longitude','sequenceId'])\n",
    "                      .select(col(\"marketName\")\n",
    "                              ,col(\"weatherDate\")\n",
    "                              ,col(\"unitOfTemparature\")\n",
    "                              ,col(\"maximumTemparature\")\n",
    "                              ,col(\"minimumTemparature\")\n",
    "                              ,col(\"unitOfRainFall\")\n",
    "                              ,col(\"rainFall\")\n",
    "                              ,col(\"latitude\")\n",
    "                              ,col(\"longitude\"))\n",
    "                     \n",
    ")"
   ]
  },
  {
   "cell_type": "code",
   "execution_count": 0,
   "metadata": {
    "application/vnd.databricks.v1+cell": {
     "cellMetadata": {
      "byteLimit": 2048000,
      "rowLimit": 10000
     },
     "inputWidgets": {},
     "nuid": "79f3840f-bd2a-4367-89e4-33ea4d751244",
     "showTitle": false,
     "tableResultSettingsMap": {},
     "title": ""
    }
   },
   "outputs": [],
   "source": [
    "pdf = weatherDataTransDF.toPandas()\n",
    "weatherDataTransDF = spark.createDataFrame(pdf)"
   ]
  },
  {
   "cell_type": "code",
   "execution_count": 0,
   "metadata": {
    "application/vnd.databricks.v1+cell": {
     "cellMetadata": {
      "byteLimit": 2048000,
      "rowLimit": 10000
     },
     "inputWidgets": {},
     "nuid": "52ea64e3-ece7-4b25-95fa-7a384a44534b",
     "showTitle": false,
     "tableResultSettingsMap": {},
     "title": ""
    }
   },
   "outputs": [],
   "source": [
    "(weatherDataTransDF\n",
    " .write\n",
    " .mode(\"overwrite\")  \n",
    " .saveAsTable(\"pricing_analytics.silver.weather_data_silver\"))"
   ]
  },
  {
   "cell_type": "code",
   "execution_count": 0,
   "metadata": {
    "application/vnd.databricks.v1+cell": {
     "cellMetadata": {
      "byteLimit": 2048000,
      "rowLimit": 10000
     },
     "inputWidgets": {},
     "nuid": "7a476033-8aa4-4c35-962b-af9b8ef71172",
     "showTitle": false,
     "tableResultSettingsMap": {},
     "title": ""
    }
   },
   "outputs": [],
   "source": [
    "spark.sql(\"SELECT * FROM pricing_analytics.silver.weather_data_silver\").show()\n"
   ]
  }
 ],
 "metadata": {
  "application/vnd.databricks.v1+notebook": {
   "computePreferences": null,
   "dashboards": [],
   "environmentMetadata": {
    "base_environment": "",
    "environment_version": "2"
   },
   "inputWidgetPreferences": null,
   "language": "python",
   "notebookMetadata": {
    "mostRecentlyExecutedCommandWithImplicitDF": {
     "commandId": 816273167594636,
     "dataframes": [
      "_sqldf"
     ]
    },
    "pythonIndentUnit": 4
   },
   "notebookName": "Transform-DataLake-WeatherData",
   "widgets": {}
  },
  "language_info": {
   "name": "python"
  }
 },
 "nbformat": 4,
 "nbformat_minor": 0
}
