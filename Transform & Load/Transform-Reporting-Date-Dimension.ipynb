{
 "cells": [
  {
   "cell_type": "code",
   "execution_count": 0,
   "metadata": {
    "application/vnd.databricks.v1+cell": {
     "cellMetadata": {
      "byteLimit": 2048000,
      "rowLimit": 10000
     },
     "inputWidgets": {},
     "nuid": "d89455eb-58b7-40c5-8eeb-c3e419836a14",
     "showTitle": false,
     "tableResultSettingsMap": {},
     "title": ""
    }
   },
   "outputs": [],
   "source": [
    "import pandas as pds\n",
    "\n",
    "sourceDatePandasDF = pds.date_range(start='1/1/2023', end='31/12/2025')\n",
    "\n",
    "sourceDateSparkDF = spark.createDataFrame(sourceDatePandasDF.to_frame())\n",
    "\n"
   ]
  },
  {
   "cell_type": "code",
   "execution_count": 0,
   "metadata": {
    "application/vnd.databricks.v1+cell": {
     "cellMetadata": {
      "byteLimit": 2048000,
      "rowLimit": 10000
     },
     "inputWidgets": {},
     "nuid": "e8d1cfc9-b4a2-4da8-b1d4-480ec337dace",
     "showTitle": false,
     "tableResultSettingsMap": {},
     "title": ""
    }
   },
   "outputs": [],
   "source": [
    "sourceDateSparkDF.withColumnRenamed('0', 'calendar_date').createOrReplaceTempView(\"source_date_dim\")"
   ]
  },
  {
   "cell_type": "code",
   "execution_count": 0,
   "metadata": {
    "application/vnd.databricks.v1+cell": {
     "cellMetadata": {
      "byteLimit": 2048000,
      "implicitDf": true,
      "rowLimit": 10000
     },
     "inputWidgets": {},
     "nuid": "8826a6c3-5e5d-40c9-b636-36d20703534d",
     "showTitle": false,
     "tableResultSettingsMap": {},
     "title": ""
    }
   },
   "outputs": [],
   "source": [
    "%sql\n",
    "Use catalog pricing_analytics;\n",
    "Truncate table  gold.reporting_dim_date_gold;\n",
    "Insert Into gold.reporting_dim_date_gold (CALENDAR_DATE, DATE_ID, lakehouse_inserted_date, lakehouse_updated_date)\n",
    "SELECT \n",
    "substring(calendar_date ,1,10)\n",
    ",date_format(calendar_date, 'yyyyMMdd' )\n",
    ",current_timestamp()\n",
    ",current_timestamp()\n",
    "from source_date_dim"
   ]
  },
  {
   "cell_type": "code",
   "execution_count": 0,
   "metadata": {
    "application/vnd.databricks.v1+cell": {
     "cellMetadata": {
      "byteLimit": 2048000,
      "implicitDf": true,
      "rowLimit": 10000
     },
     "inputWidgets": {},
     "nuid": "28da6523-7045-4c07-b20e-c32efcfd819f",
     "showTitle": false,
     "tableResultSettingsMap": {},
     "title": ""
    }
   },
   "outputs": [],
   "source": [
    "%sql\n",
    "select * from gold.reporting_dim_date_gold"
   ]
  }
 ],
 "metadata": {
  "application/vnd.databricks.v1+notebook": {
   "computePreferences": null,
   "dashboards": [],
   "environmentMetadata": {
    "base_environment": "",
    "environment_version": "2"
   },
   "inputWidgetPreferences": null,
   "language": "python",
   "notebookMetadata": {
    "mostRecentlyExecutedCommandWithImplicitDF": {
     "commandId": 8940810088453188,
     "dataframes": [
      "_sqldf"
     ]
    },
    "pythonIndentUnit": 4
   },
   "notebookName": "Transform-Reporting-Date-Dimension",
   "widgets": {}
  },
  "language_info": {
   "name": "python"
  }
 },
 "nbformat": 4,
 "nbformat_minor": 0
}
