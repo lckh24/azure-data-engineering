{
 "cells": [
  {
   "cell_type": "markdown",
   "metadata": {
    "application/vnd.databricks.v1+cell": {
     "cellMetadata": {
      "byteLimit": 2048000,
      "rowLimit": 10000
     },
     "inputWidgets": {},
     "nuid": "b3c63441-c9df-4074-b9a9-d65037856cea",
     "showTitle": false,
     "tableResultSettingsMap": {},
     "title": ""
    }
   },
   "source": [
    "##### Description:\n",
    "Integrate Daily Pricing Data , Geolocation Data and Weather Data to Publish in Gold Layer as a source data for Future Price Prediction Using AI\n",
    "\n",
    "##### Source Tables:\n",
    "pricing_analytics.silver.daily_pricing_silver , pricing_analytics.silver.geo_location_silver , pricing_analytics.silver.weather_data_silver\n",
    "\n",
    "##### Target Table name : DataLake_Price-Prediction-Gold\n",
    "###### Target Table Column Mappings:\n",
    "| SOURCE_TABLE_NAME | SOURCE_COLUMN_NAME | DATALAKE_TABLE_NAME | DATALAKE_COLUMN_NAME | TRANSFORMATION RULE | CONDITIONS |\n",
    "| --- | --- |--- | --- |--- |--- |\n",
    "| silver.daily_pricing_silver\t| DATE_OF_PRICING\t|datalake_price_prediction_gold| DATE_OF_PRICING| Direct Mapping |  |\n",
    "| silver.daily_pricing_silver\t| STATE_NAME\t|datalake_price_prediction_gold| STATE_NAME| Direct Mapping |  |\n",
    "| silver.daily_pricing_silver\t| MARKET_NAME\t|datalake_price_prediction_gold|  MARKET_NAME\t| Direct Mapping |  |\n",
    "| silver.daily_pricing_silver\t| PRODUCTGROUP_NAME |datalake_price_prediction_gold| PRODUCT_ID| Direct Mapping |  |\n",
    "| silver.daily_pricing_silver\t| PRODUCT_NAME\t|datalake_price_prediction_gold| PRODUCT_ID| Direct Mapping |  |\n",
    "| silver.daily_pricing_silver\t| VARIETY\t|datalake_price_prediction_gold| VARIETY_ID|Direct Mapping |  |\n",
    "| silver.daily_pricing_silver\t| ROW_ID\t|datalake_price_prediction_gold| ROW_ID| Direct Mapping |  |\n",
    "| silver.daily_pricing_silver\t| ARRIVAL_IN_TONNES\t|datalake_price_prediction_gold| ARRIVAL_IN_TONNES| Direct Mapping |  |\n",
    "| silver.daily_pricing_silver\t| MINIMUM_PRICE\t|datalake_price_prediction_gold| MINIMUM_PRICE| Direct Mapping |  |\n",
    "| silver.daily_pricing_silver\t| MAXIMUM_PRICE\t|datalake_price_prediction_gold| MAXIMUM_PRICE| Direct Mapping |  |\n",
    "| silver.daily_pricing_silver\t| MODAL_PRICE\t|datalake_price_prediction_gold| MODAL_PRICE| Direct Mapping |  |\n",
    "| silver.geo_location_silver \t| latitude\t|datalake_price_prediction_gold| MARKET_LATITUDE| Change the Source Column Name | daily_pricing_silver.STATE_NAME = geo_location_silver.stateName AND daily_pricing_silver.MARKET_NAME = geo_location_silver.marketName AND geo_location_silver.countryName = 'India' |\n",
    "| silver.geo_location_silver \t| longitude\t|datalake_price_prediction_gold| MARKET_LONGITUDE| Change the Source Column Name |  |\n",
    "| silver.geo_location_silver \t| population\t|datalake_price_prediction_gold| MARKET_POPULATION| Change the Source Column Name  |  |\n",
    "| silver.weather_data_silver \t| unitOfTemparature\t|datalake_price_prediction_gold| TEMPARATURE_UNIT| Change the Source Column Name  | daily_pricing_silver.MARKET_NAME = weather_data_silver.marketName AND daily_pricing_silver.DATE_OF_PRICING = weather_data_silver.weatherDate |\n",
    "| silver.weather_data_silver \t| maximumTemparature\t|datalake_price_prediction_gold| MARKET_MAX_TEMPARATURE | Change the Source Column Name  |  |\n",
    "| silver.weather_data_silver \t| minimumTemparature\t|datalake_price_prediction_gold| MARKET_MIN_TEMPARATURE | Change the Source Column Name  |  |\n",
    "| silver.weather_data_silver \t| unitOfRainFall\t|datalake_price_prediction_gold| RAINFALL_UNIT| Change the Source Column Name  |  |\n",
    "| silver.weather_data_silver \t| rainFall\t|datalake_price_prediction_gold| MARKET_DAILY_RAINFALL| Change the Source Column Name  |  |\n",
    "| DERIVED\t| DERIVED\t|datalake_price_prediction_gold\t| lakehouse_inserted_date\t| Load current_timestamp() | |\n",
    "| DERIVED\t| DERIVED\t|datalake_price_prediction_gold\t| lakehouse_updated_date\t| Load current_timestamp() | |\n",
    "\n",
    "\n",
    "- <a href=\"https://docs.databricks.com/en/sql/language-manual/delta-merge-into.html\" target=\"_blank\">**MERGE TABLE** </a>"
   ]
  },
  {
   "cell_type": "code",
   "execution_count": 0,
   "metadata": {
    "application/vnd.databricks.v1+cell": {
     "cellMetadata": {
      "byteLimit": 2048000,
      "rowLimit": 10000
     },
     "inputWidgets": {},
     "nuid": "b7c8364c-69c8-4da6-8f27-787b9b919dbe",
     "showTitle": false,
     "tableResultSettingsMap": {},
     "title": ""
    }
   },
   "outputs": [],
   "source": [
    "CREATE OR REPLACE TABLE pricing_analytics.gold.DataLake_Price_Prediction_Gold AS\n",
    "WITH base_data AS (\n",
    "  SELECT\n",
    "    dp.DATE_OF_PRICING,\n",
    "    dp.ROW_ID,\n",
    "    dp.STATE_NAME,\n",
    "    dp.MARKET_NAME,\n",
    "    dp.PRODUCTGROUP_NAME,\n",
    "    dp.PRODUCT_NAME,\n",
    "    dp.VARIETY,\n",
    "    dp.ORIGIN,\n",
    "    dp.ARRIVAL_IN_TONNES,\n",
    "    dp.MINIMUM_PRICE,\n",
    "    dp.MAXIMUM_PRICE,\n",
    "    dp.MODAL_PRICE,\n",
    "    gl.latitude AS MARKET_LATITUDE,\n",
    "    gl.longitude AS MARKET_LONGITUDE,\n",
    "    gl.population AS MARKET_POPULATION,\n",
    "    wd.unitOfTemparature AS TEMPARATURE_UNIT,\n",
    "    wd.maximumTemparature AS MARKET_MAX_TEMPARATURE,\n",
    "    wd.minimumTemparature AS MARKET_MIN_TEMPARATURE,\n",
    "    wd.unitOfRainFall AS RAINFALL_UNIT,\n",
    "    wd.rainFall AS MARKET_DAILY_RAINFALL\n",
    "  FROM pricing_analytics.silver.daily_pricing_silver dp\n",
    "  INNER JOIN pricing_analytics.silver.geo_location_silver gl\n",
    "    ON dp.STATE_NAME = gl.stateName\n",
    "    AND dp.MARKET_NAME = gl.marketName\n",
    "    AND gl.countryName = 'India'\n",
    "  INNER JOIN pricing_analytics.silver.weather_data_silver wd\n",
    "    ON wd.marketName = dp.MARKET_NAME\n",
    "    AND dp.DATE_OF_PRICING = wd.weatherDate\n",
    ")\n",
    "SELECT *,\n",
    "       current_timestamp() AS lakehouse_inserted_date,\n",
    "       current_timestamp() AS lakehouse_updated_date\n",
    "FROM base_data;\n"
   ]
  },
  {
   "cell_type": "code",
   "execution_count": 0,
   "metadata": {
    "application/vnd.databricks.v1+cell": {
     "cellMetadata": {
      "byteLimit": 2048000,
      "rowLimit": 10000
     },
     "inputWidgets": {},
     "nuid": "234d0a9a-0fc5-4f73-a5ff-63eaef74ef49",
     "showTitle": false,
     "tableResultSettingsMap": {},
     "title": ""
    }
   },
   "outputs": [],
   "source": [
    "%sql\n",
    "select count(*) from pricing_analytics.gold.DataLake_Price_Prediction_Gold"
   ]
  },
  {
   "cell_type": "code",
   "execution_count": 0,
   "metadata": {
    "application/vnd.databricks.v1+cell": {
     "cellMetadata": {
      "byteLimit": 2048000,
      "rowLimit": 10000
     },
     "inputWidgets": {},
     "nuid": "e4efcfbc-7bf7-4ba7-bb3a-1e1a765b79fb",
     "showTitle": false,
     "tableResultSettingsMap": {},
     "title": ""
    }
   },
   "outputs": [],
   "source": [
    "SELECT * FROM pricing_analytics.gold.DataLake_Price_Prediction_Gold\n",
    "--WHERE MARKET_POPULATION IS NOT NULL"
   ]
  }
 ],
 "metadata": {
  "application/vnd.databricks.v1+notebook": {
   "computePreferences": null,
   "dashboards": [],
   "environmentMetadata": {
    "base_environment": "",
    "environment_version": "2"
   },
   "inputWidgetPreferences": null,
   "language": "sql",
   "notebookMetadata": {
    "pythonIndentUnit": 4
   },
   "notebookName": "DataLake-Price-Prediction",
   "widgets": {}
  },
  "language_info": {
   "name": "sql"
  }
 },
 "nbformat": 4,
 "nbformat_minor": 0
}
