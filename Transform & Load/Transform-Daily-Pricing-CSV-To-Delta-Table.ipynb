{
 "cells": [
  {
   "cell_type": "code",
   "execution_count": 0,
   "metadata": {
    "application/vnd.databricks.v1+cell": {
     "cellMetadata": {
      "byteLimit": 2048000,
      "implicitDf": true,
      "rowLimit": 10000
     },
     "inputWidgets": {},
     "nuid": "862c8de3-4b05-4b28-8ef0-8ebaf04a95cc",
     "showTitle": false,
     "tableResultSettingsMap": {},
     "title": ""
    }
   },
   "outputs": [],
   "source": [
    "%sql\n",
    "USE CATALOG pricing_analytics;\n",
    "\n",
    "INSERT INTO silver.daily_pricing_silver\n",
    "SELECT \n",
    "    to_date(DATE_OF_PRICING, 'MM/dd/yyyy') AS date_of_pricing,\n",
    "    try_cast(ROW_ID AS BIGINT) AS row_id,\n",
    "    NULLIF(TRIM(STATE_NAME), '') AS STATE_NAME,\n",
    "    NULLIF(TRIM(MARKET_NAME), '') AS MARKET_NAME,\n",
    "    NULLIF(TRIM(PRODUCTGROUP_NAME), '') AS PRODUCTGROUP_NAME,\n",
    "    NULLIF(TRIM(PRODUCT_NAME), '') AS PRODUCT_NAME,\n",
    "    NULLIF(TRIM(VARIETY), '') AS VARIETY,\n",
    "    NULLIF(TRIM(ORIGIN), '') AS ORIGIN,\n",
    "    try_cast(ARRIVAL_IN_TONNES AS DECIMAL(18, 2)) AS arrival_in_tonnes,\n",
    "    try_cast(MINIMUM_PRICE AS DECIMAL(36, 2)) AS minimum_price,\n",
    "    try_cast(MAXIMUM_PRICE AS DECIMAL(36, 2)) AS maximum_price,\n",
    "    try_cast(MODAL_PRICE AS DECIMAL(36, 2)) AS modal_price,\n",
    "    source_file_load_date, -- date when files are loaded to bronze layer\n",
    "    CURRENT_TIMESTAMP() AS inserted_at, -- date when files are inserted to silver layer\n",
    "    CURRENT_TIMESTAMP() AS updated_at -- date when files are updated to silver layer\n",
    "FROM pricing_analytics.bronze.daily_pricing\n",
    "WHERE source_file_load_date > (\n",
    "    SELECT NVL(MAX(PROCESSED_TABLE_DATETIME), '1900-01-01') \n",
    "    FROM pricing_analytics.processrunlogs.DELTALAKEHOUSE_PROCESS_RUNS\n",
    "    WHERE process_name = 'daily_pricing_silver' \n",
    "      AND process_status = 'Completed'\n",
    ")\n",
    "AND try_cast(ROW_ID AS BIGINT) IS NOT NULL\n",
    "AND try_cast(ARRIVAL_IN_TONNES AS DECIMAL(18, 2)) IS NOT NULL\n",
    "AND try_cast(MINIMUM_PRICE AS DECIMAL(36, 2)) IS NOT NULL\n",
    "AND try_cast(MAXIMUM_PRICE AS DECIMAL(36, 2)) IS NOT NULL\n",
    "AND try_cast(MODAL_PRICE AS DECIMAL(36, 2)) IS NOT NULL"
   ]
  },
  {
   "cell_type": "code",
   "execution_count": 0,
   "metadata": {
    "application/vnd.databricks.v1+cell": {
     "cellMetadata": {
      "byteLimit": 2048000,
      "rowLimit": 10000
     },
     "inputWidgets": {},
     "nuid": "ba6a64cb-5a11-4d75-a82f-432cab03daca",
     "showTitle": false,
     "tableResultSettingsMap": {},
     "title": ""
    }
   },
   "outputs": [],
   "source": [
    "# %sql\n",
    "# MERGE INTO silver.daily_pricing_silver AS tgt\n",
    "# USING (\n",
    "#   SELECT \n",
    "#     to_date(DATE_OF_PRICING, 'dd/MM/yyyy') AS date_of_pricing,\n",
    "#     CAST(ROW_ID AS BIGINT) AS row_id,\n",
    "#     STATE_NAME,\n",
    "#     MARKET_NAME,\n",
    "#     PRODUCTGROUP_NAME,\n",
    "#     PRODUCT_NAME,\n",
    "#     VARIETY,\n",
    "#     ORIGIN,\n",
    "#     CAST(ARRIVAL_IN_TONNES AS DECIMAL(18, 2)) AS arrival_in_tonnes,\n",
    "#     CAST(MINIMUM_PRICE AS DECIMAL(36, 2)) AS minimum_price,\n",
    "#     CAST(MAXIMUM_PRICE AS DECIMAL(36, 2)) AS maximum_price,\n",
    "#     CAST(MODAL_PRICE AS DECIMAL(36, 2)) AS modal_price,\n",
    "#     source_file_load_date,\n",
    "#     current_timestamp() AS _now -- dùng lại cho cả insert và update\n",
    "#   FROM pricing_analytics.bronze.daily_pricing\n",
    "#   WHERE source_file_load_date > (\n",
    "#     SELECT NVL(MAX(PROCESSED_TABLE_DATETIME), '1900-01-01')\n",
    "#     FROM pricing_analytics.processrunlogs.DELTALAKEHOUSE_PROCESS_RUNS\n",
    "#     WHERE process_name = 'daily_pricing_silver'\n",
    "#       AND process_status = 'Completed'\n",
    "#   )\n",
    "# ) AS src\n",
    "# ON tgt.row_id = src.row_id\n",
    "# WHEN MATCHED THEN UPDATE SET\n",
    "#   tgt.date_of_pricing = src.date_of_pricing,\n",
    "#   tgt.state_name = src.state_name,\n",
    "#   tgt.market_name = src.market_name,\n",
    "#   tgt.productgroup_name = src.productgroup_name,\n",
    "#   tgt.product_name = src.product_name,\n",
    "#   tgt.variety = src.variety,\n",
    "#   tgt.origin = src.origin,\n",
    "#   tgt.arrival_in_tonnes = src.arrival_in_tonnes,\n",
    "#   tgt.minimum_price = src.minimum_price,\n",
    "#   tgt.maximum_price = src.maximum_price,\n",
    "#   tgt.modal_price = src.modal_price,\n",
    "#   tgt.source_file_load_date = src.source_file_load_date,\n",
    "#   tgt.updated_at = src._now\n",
    "\n",
    "# WHEN NOT MATCHED THEN INSERT (\n",
    "#   date_of_pricing,\n",
    "#   row_id,\n",
    "#   state_name,\n",
    "#   market_name,\n",
    "#   productgroup_name,\n",
    "#   product_name,\n",
    "#   variety,\n",
    "#   origin,\n",
    "#   arrival_in_tonnes,\n",
    "#   minimum_price,\n",
    "#   maximum_price,\n",
    "#   modal_price,\n",
    "#   source_file_load_date,\n",
    "#   inserted_at,\n",
    "#   updated_at\n",
    "# )\n",
    "# VALUES (\n",
    "#   src.date_of_pricing,\n",
    "#   src.row_id,\n",
    "#   src.state_name,\n",
    "#   src.market_name,\n",
    "#   src.productgroup_name,\n",
    "#   src.product_name,\n",
    "#   src.variety,\n",
    "#   src.origin,\n",
    "#   src.arrival_in_tonnes,\n",
    "#   src.minimum_price,\n",
    "#   src.maximum_price,\n",
    "#   src.modal_price,\n",
    "#   src.source_file_load_date,\n",
    "#   src._now,\n",
    "#   src._now\n",
    "# );\n"
   ]
  },
  {
   "cell_type": "code",
   "execution_count": 0,
   "metadata": {
    "application/vnd.databricks.v1+cell": {
     "cellMetadata": {
      "byteLimit": 2048000,
      "implicitDf": true,
      "rowLimit": 10000
     },
     "inputWidgets": {},
     "nuid": "8b99b087-a5f6-488e-bc6d-a3be85bc2c52",
     "showTitle": false,
     "tableResultSettingsMap": {},
     "title": ""
    }
   },
   "outputs": [],
   "source": [
    "%sql\n",
    "INSERT INTO pricing_analytics.processrunlogs.deltalakehouse_process_runs(`PROCESS_NAME`, `PROCESSED_TABLE_DATETIME`, `PROCESS_STATUS`)\n",
    "SELECT 'daily_pricing_silver', max(source_file_load_date), 'Completed' \n",
    "FROM pricing_analytics.silver.daily_pricing_silver"
   ]
  }
 ],
 "metadata": {
  "application/vnd.databricks.v1+notebook": {
   "computePreferences": null,
   "dashboards": [],
   "environmentMetadata": {
    "base_environment": "",
    "environment_version": "2"
   },
   "inputWidgetPreferences": null,
   "language": "python",
   "notebookMetadata": {
    "mostRecentlyExecutedCommandWithImplicitDF": {
     "commandId": 7141549546773967,
     "dataframes": [
      "_sqldf"
     ]
    },
    "pythonIndentUnit": 4
   },
   "notebookName": "Transform-Daily-Pricing-CSV-To-Delta-Table",
   "widgets": {}
  },
  "language_info": {
   "name": "python"
  }
 },
 "nbformat": 4,
 "nbformat_minor": 0
}
