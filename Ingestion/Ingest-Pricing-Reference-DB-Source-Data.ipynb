{
 "cells": [
  {
   "cell_type": "markdown",
   "metadata": {
    "application/vnd.databricks.v1+cell": {
     "cellMetadata": {
      "byteLimit": 2048000,
      "rowLimit": 10000
     },
     "inputWidgets": {},
     "nuid": "f16d84cd-4706-422a-a76f-d4c417129e98",
     "showTitle": false,
     "tableResultSettingsMap": {},
     "title": ""
    }
   },
   "source": [
    "JDBCconnectionUrl = \"jdbc:sqlserver://<server>;encrypt=true;databaseName=<database>;user=<user>;password=<password>\";\n",
    "\n",
    "Server -> asqludacoursesserver.database.windows.net\n",
    "\n",
    "databaseName -> asqludacourses\n",
    "\n",
    "user -> sourcereader\n",
    "\n",
    "password -> DBReader@2024"
   ]
  },
  {
   "cell_type": "code",
   "execution_count": 0,
   "metadata": {
    "application/vnd.databricks.v1+cell": {
     "cellMetadata": {
      "byteLimit": 2048000,
      "rowLimit": 10000
     },
     "inputWidgets": {},
     "nuid": "0215b171-b226-4fb1-82fd-e5cc743a0844",
     "showTitle": false,
     "tableResultSettingsMap": {},
     "title": ""
    }
   },
   "outputs": [],
   "source": [
    "pricingReferenceSourceTableName = dbutils.widgets.get(\"prm_pricingRefSource\")\n",
    "pricingReferenceSinkLayerName = \"bronze\"\n",
    "pricingReferenceSinkStorageAccountName = \"lckudadatalakehousedev\"\n",
    "pricingReferenceSinkFolderName = 'reference-data'"
   ]
  },
  {
   "cell_type": "code",
   "execution_count": 0,
   "metadata": {
    "application/vnd.databricks.v1+cell": {
     "cellMetadata": {
      "byteLimit": 2048000,
      "rowLimit": 10000
     },
     "inputWidgets": {},
     "nuid": "cc94a1fc-88e8-40b2-af0c-4e1eecea0ce5",
     "showTitle": false,
     "tableResultSettingsMap": {},
     "title": ""
    }
   },
   "outputs": [],
   "source": [
    "JDBCconnectionUrl = \"jdbc:sqlserver://asqludacoursesserver.database.windows.net;encrypt=true;databaseName=asqludacourses;user=sourcereader;password=DBReader@2024\";\n",
    "\n",
    "pricingReferenceSourceTableDF = (\n",
    "  spark.\n",
    "  read.\n",
    "  format(\"jdbc\").\n",
    "  option(\"url\", JDBCconnectionUrl).\n",
    "  option(\"dbtable\", pricingReferenceSourceTableName).\n",
    "  load()\n",
    ")\n",
    "\n",
    "display(pricingReferenceSourceTableDF)"
   ]
  },
  {
   "cell_type": "code",
   "execution_count": 0,
   "metadata": {
    "application/vnd.databricks.v1+cell": {
     "cellMetadata": {
      "byteLimit": 2048000,
      "rowLimit": 10000
     },
     "inputWidgets": {},
     "nuid": "372b76b8-4de7-493c-a43c-d6eae18e43c1",
     "showTitle": false,
     "tableResultSettingsMap": {},
     "title": ""
    }
   },
   "outputs": [],
   "source": [
    "pricingReferenceSinkFolderPath = f\"abfss://{pricingReferenceSinkLayerName}@{pricingReferenceSinkStorageAccountName}.dfs.core.windows.net/{pricingReferenceSinkFolderName}/{pricingReferenceSourceTableName}\"\n",
    "\n",
    "(\n",
    "    pricingReferenceSourceTableDF.\n",
    "    write.\n",
    "    mode(\"overwrite\").\n",
    "    json(pricingReferenceSinkFolderPath)\n",
    ")"
   ]
  }
 ],
 "metadata": {
  "application/vnd.databricks.v1+notebook": {
   "computePreferences": null,
   "dashboards": [],
   "environmentMetadata": {
    "base_environment": "",
    "environment_version": "2"
   },
   "inputWidgetPreferences": null,
   "language": "python",
   "notebookMetadata": {
    "pythonIndentUnit": 4
   },
   "notebookName": "Ingest-Pricing-Reference-DB-Source-Data",
   "widgets": {
    "prm_pricingRefSource": {
     "currentValue": " masterdata.market_address",
     "nuid": "04c5323c-ec3b-4afd-84e0-c2c9734b57fe",
     "typedWidgetInfo": {
      "autoCreated": false,
      "defaultValue": "",
      "label": "",
      "name": "prm_pricingRefSource",
      "options": {
       "widgetDisplayType": "Text",
       "validationRegex": null
      },
      "parameterDataType": "String"
     },
     "widgetInfo": {
      "widgetType": "text",
      "defaultValue": "",
      "label": "",
      "name": "prm_pricingRefSource",
      "options": {
       "widgetType": "text",
       "autoCreated": false,
       "validationRegex": null
      }
     }
    }
   }
  },
  "language_info": {
   "name": "python"
  }
 },
 "nbformat": 4,
 "nbformat_minor": 0
}
