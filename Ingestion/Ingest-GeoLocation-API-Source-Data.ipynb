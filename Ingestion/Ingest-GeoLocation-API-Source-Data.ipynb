{
 "cells": [
  {
   "cell_type": "markdown",
   "metadata": {
    "application/vnd.databricks.v1+cell": {
     "cellMetadata": {
      "byteLimit": 2048000,
      "rowLimit": 10000
     },
     "inputWidgets": {},
     "nuid": "bf9b8dd7-4039-4cc7-b0c6-8988aa5fd3fd",
     "showTitle": false,
     "tableResultSettingsMap": {},
     "title": ""
    }
   },
   "source": [
    "source API URL : \"https://geocoding-api.open-meteo.com/v1/search?name=kovilpatti&count=10&language=en&format=json\"\n",
    "\n",
    "JSON Target File Path : \"abfss://bronze@datalakestorageaccountname.dfs.core.windows.net/geo-location/\""
   ]
  },
  {
   "cell_type": "code",
   "execution_count": 0,
   "metadata": {
    "application/vnd.databricks.v1+cell": {
     "cellMetadata": {
      "byteLimit": 2048000,
      "rowLimit": 10000
     },
     "inputWidgets": {},
     "nuid": "d4592cc3-d6ca-4553-b352-491bd0c54271",
     "showTitle": false,
     "tableResultSettingsMap": {},
     "title": ""
    }
   },
   "outputs": [],
   "source": [
    "geoLocationSourceAPIURL = \"https://geocoding-api.open-meteo.com/v1/search?name=kovilpatti&count=10&language=en&format=json\"\n",
    "\n",
    "geoLocationSourceAPIBaseURL = \"https://geocoding-api.open-meteo.com/v1/search?name=\"\n",
    "geoLocationSourceAPIURLOptions = \"&count=10&language=en&format=json\"\n",
    "\n",
    "geoLocationSinkLayerName = 'bronze'\n",
    "geoLocationSinkStorageAccountName = 'lckudadatalakehousedev'\n",
    "geoLocationSinkFolderName = 'geo-location'\n",
    "\n",
    "geoLocationSinkFolderPath = f\"abfss://{geoLocationSinkLayerName}@{geoLocationSinkStorageAccountName}.dfs.core.windows.net/{geoLocationSinkFolderName}\""
   ]
  },
  {
   "cell_type": "code",
   "execution_count": 0,
   "metadata": {
    "application/vnd.databricks.v1+cell": {
     "cellMetadata": {
      "byteLimit": 2048000,
      "rowLimit": 10000
     },
     "inputWidgets": {},
     "nuid": "517aa3a9-5887-4313-be30-0aa540ffcba2",
     "showTitle": false,
     "tableResultSettingsMap": {},
     "title": ""
    }
   },
   "outputs": [],
   "source": [
    "import requests\n",
    "import json\n",
    "import pandas as pds"
   ]
  },
  {
   "cell_type": "code",
   "execution_count": 0,
   "metadata": {
    "application/vnd.databricks.v1+cell": {
     "cellMetadata": {
      "byteLimit": 2048000,
      "rowLimit": 10000
     },
     "inputWidgets": {},
     "nuid": "62b0c137-b6cd-4640-89d7-1837502c8d84",
     "showTitle": false,
     "tableResultSettingsMap": {},
     "title": ""
    }
   },
   "outputs": [],
   "source": [
    "geoLocationAPIResponse = requests.get(geoLocationSourceAPIURL).json()\n",
    "geoLocationPandasDF = pds.DataFrame(geoLocationAPIResponse)\n",
    "geoLocationSparkDF = spark.createDataFrame(geoLocationPandasDF)"
   ]
  },
  {
   "cell_type": "code",
   "execution_count": 0,
   "metadata": {
    "application/vnd.databricks.v1+cell": {
     "cellMetadata": {
      "byteLimit": 2048000,
      "rowLimit": 10000
     },
     "inputWidgets": {},
     "nuid": "066f5feb-d23a-4f1a-8f0a-73830620aba4",
     "showTitle": false,
     "tableResultSettingsMap": {},
     "title": ""
    }
   },
   "outputs": [],
   "source": [
    "dailyPricingMarketNamesDF = spark.sql(\"SELECT MARKET_NAME from pricing_analytics.gold.reporting_dim_market_gold \")"
   ]
  },
  {
   "cell_type": "code",
   "execution_count": 0,
   "metadata": {
    "application/vnd.databricks.v1+cell": {
     "cellMetadata": {
      "byteLimit": 2048000,
      "rowLimit": 10000
     },
     "inputWidgets": {},
     "nuid": "a207ce81-d910-49c2-be71-f57389c3516c",
     "showTitle": false,
     "tableResultSettingsMap": {},
     "title": ""
    }
   },
   "outputs": [],
   "source": [
    "marketNames = [row[\"MARKET_NAME\"] for row in dailyPricingMarketNamesDF.collect()]\n",
    "print(f\"Fetched {len(marketNames)} market names.\")\n",
    "\n",
    "geoLocationAPIResponseList = []\n",
    "for marketName in marketNames:\n",
    "    geoLocationSourceAPIURL = f\"{geoLocationSourceAPIBaseURL}{marketName}{geoLocationSourceAPIURLOptions}\"\n",
    "    print(f\"Requesting GeoLocation API for market: {marketName}\")\n",
    "    geoLocationAPIResponse = requests.get(geoLocationSourceAPIURL).json()\n",
    "    if isinstance(geoLocationAPIResponse, dict):\n",
    "        geoLocationAPIResponseList.append(geoLocationAPIResponse)\n",
    "        print(f\"Received valid response for market: {marketName}\")\n",
    "    else:\n",
    "        print(f\"Invalid response for market: {marketName}\")\n",
    "\n",
    "print(f\"Total valid API responses: {len(geoLocationAPIResponseList)}\")\n",
    "\n",
    "geoLocationSparkDF = spark.createDataFrame(pds.DataFrame(geoLocationAPIResponseList))\n",
    "\n",
    "(geoLocationSparkDF\n",
    " .filter(\"results.admin1 IS NOT NULL\")\n",
    " .write\n",
    " .mode(\"overwrite\")\n",
    " .json(geoLocationSinkFolderPath))\n",
    "\n",
    "print(f\"GeoLocation data written to {geoLocationSinkFolderPath}\")"
   ]
  },
  {
   "cell_type": "code",
   "execution_count": 0,
   "metadata": {
    "application/vnd.databricks.v1+cell": {
     "cellMetadata": {
      "byteLimit": 2048000,
      "rowLimit": 10000
     },
     "inputWidgets": {},
     "nuid": "8f1d68e8-581a-42d7-9309-576278b49472",
     "showTitle": false,
     "tableResultSettingsMap": {},
     "title": ""
    }
   },
   "outputs": [],
   "source": [
    "from pyspark.sql.functions import col, array_contains\n",
    "geoLocationBronzeDF = (spark\n",
    "                       .read\n",
    "                       .json(geoLocationSinkFolderPath))\n",
    "                       \n",
    "\n",
    "display(geoLocationBronzeDF)"
   ]
  }
 ],
 "metadata": {
  "application/vnd.databricks.v1+notebook": {
   "computePreferences": null,
   "dashboards": [],
   "environmentMetadata": {
    "base_environment": "",
    "environment_version": "1"
   },
   "inputWidgetPreferences": null,
   "language": "python",
   "notebookMetadata": {
    "pythonIndentUnit": 4
   },
   "notebookName": "Ingest-GeoLocation-API-Source-Data",
   "widgets": {}
  },
  "language_info": {
   "name": "python"
  }
 },
 "nbformat": 4,
 "nbformat_minor": 0
}
