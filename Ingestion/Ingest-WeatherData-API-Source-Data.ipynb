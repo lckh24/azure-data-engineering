{
 "cells": [
  {
   "cell_type": "markdown",
   "metadata": {
    "application/vnd.databricks.v1+cell": {
     "cellMetadata": {
      "byteLimit": 2048000,
      "rowLimit": 10000
     },
     "inputWidgets": {},
     "nuid": "cb2fb32c-f287-4dea-a961-51387b7449f4",
     "showTitle": false,
     "tableResultSettingsMap": {},
     "title": ""
    }
   },
   "source": [
    "source API URL : \"https://archive-api.open-meteo.com/v1/archive?latitude=52.52&longitude=13.41&start_date=2023-01-01&end_date=2024-01-01&daily=temperature_2m_max,temperature_2m_min,rain_sum\"\n",
    "\n",
    "JSON Target File Path : \"abfss://bronze@datalakestorageaccountname.dfs.core.windows.net/weather-data/\n",
    "\""
   ]
  },
  {
   "cell_type": "code",
   "execution_count": 0,
   "metadata": {
    "application/vnd.databricks.v1+cell": {
     "cellMetadata": {
      "byteLimit": 2048000,
      "rowLimit": 10000
     },
     "inputWidgets": {},
     "nuid": "bd55f46f-3a97-4725-807a-f442ec1615ec",
     "showTitle": false,
     "tableResultSettingsMap": {},
     "title": ""
    }
   },
   "outputs": [],
   "source": [
    "#weatherDataSourceAPIURL = \"https://archive-api.open-meteo.com/v1/archive?latitude=52.52&longitude=13.41&start_date=2023-01-01&end_date=2024-01-01&daily=temperature_2m_max,temperature_2m_min,rain_sum\"\n",
    "\n",
    "weatherDataSourceAPIBaseURL = \"https://archive-api.open-meteo.com/v1/archive?latitude=\"\n",
    "weatherDataSourceAPIURLOptions = \"&daily=temperature_2m_max,temperature_2m_min,rain_sum\"\n",
    "\n",
    "weatherDataSinkLayerName = 'bronze'\n",
    "weatherDataSinkStorageAccountName = 'lckudadatalakehousedev'\n",
    "weatherDataSinkFolderName = 'weather-data'\n",
    "\n",
    "weatherDataSinkFolderPath = f\"abfss://{weatherDataSinkLayerName}@{weatherDataSinkStorageAccountName}.dfs.core.windows.net/{weatherDataSinkFolderName}\""
   ]
  },
  {
   "cell_type": "code",
   "execution_count": 0,
   "metadata": {
    "application/vnd.databricks.v1+cell": {
     "cellMetadata": {
      "byteLimit": 2048000,
      "rowLimit": 10000
     },
     "inputWidgets": {},
     "nuid": "5de8138a-602e-4c1d-bc68-eebc15c12b5d",
     "showTitle": false,
     "tableResultSettingsMap": {},
     "title": ""
    }
   },
   "outputs": [],
   "source": [
    "import requests\n",
    "import json\n",
    "import pandas as pds"
   ]
  },
  {
   "cell_type": "code",
   "execution_count": 0,
   "metadata": {
    "application/vnd.databricks.v1+cell": {
     "cellMetadata": {
      "byteLimit": 2048000,
      "rowLimit": 10000
     },
     "inputWidgets": {},
     "nuid": "635f22ff-144f-4862-a24a-bdd9ee8d463d",
     "showTitle": false,
     "tableResultSettingsMap": {},
     "title": ""
    }
   },
   "outputs": [],
   "source": [
    "geoLocationsDF = spark.sql(\"SELECT latitude,longitude,marketName from pricing_analytics.silver.geo_location_silver LIMIT 100 \")\n",
    "display(geoLocationsDF.count())"
   ]
  },
  {
   "cell_type": "code",
   "execution_count": 0,
   "metadata": {
    "application/vnd.databricks.v1+cell": {
     "cellMetadata": {
      "byteLimit": 2048000,
      "rowLimit": 10000
     },
     "inputWidgets": {},
     "nuid": "bf95be35-9815-4b1f-843b-2c8d81f80ffc",
     "showTitle": false,
     "tableResultSettingsMap": {},
     "title": ""
    }
   },
   "outputs": [],
   "source": [
    "\n",
    "weatherDataAPIResponseList = []\n",
    "for geoLocations in geoLocationsDF.collect():\n",
    "  print(geoLocations[\"marketName\"],geoLocations[\"latitude\"],geoLocations[\"longitude\"])\n",
    "  weatherDataSourceAPIURL = f\"{weatherDataSourceAPIBaseURL}{geoLocations['latitude']}&longitude={geoLocations['longitude']}&start_date=2023-01-01&end_date=2023-12-31{weatherDataSourceAPIURLOptions}\"\n",
    "  weatherDataAPIResponse = requests.get(weatherDataSourceAPIURL).json()\n",
    "  weatherDataAPIResponse[\"marketName\"] = geoLocations[\"marketName\"]\n",
    "  weatherDataAPIResponseJson = json.dumps(weatherDataAPIResponse)\n",
    "  #print(weatherDataAPIResponseJson)\n",
    "  if isinstance(weatherDataAPIResponse, dict):\n",
    "   weatherDataAPIResponseList.append(weatherDataAPIResponseJson)\n",
    "\n",
    "weatherDataSparkDF = spark.createDataFrame([json.loads(item) for item in weatherDataAPIResponseList])\n",
    "\n",
    "(weatherDataSparkDF\n",
    ".write\n",
    ".mode(\"overwrite\")\n",
    ".json(weatherDataSinkFolderPath))\n",
    "\n",
    "  "
   ]
  }
 ],
 "metadata": {
  "application/vnd.databricks.v1+notebook": {
   "computePreferences": null,
   "dashboards": [],
   "environmentMetadata": {
    "base_environment": "",
    "environment_version": "2"
   },
   "inputWidgetPreferences": null,
   "language": "python",
   "notebookMetadata": {
    "pythonIndentUnit": 4
   },
   "notebookName": "Ingest-WeatherData-API-Source-Data",
   "widgets": {}
  },
  "language_info": {
   "name": "python"
  }
 },
 "nbformat": 4,
 "nbformat_minor": 0
}
